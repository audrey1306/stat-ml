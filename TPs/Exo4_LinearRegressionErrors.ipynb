{
 "cells": [
  {
   "cell_type": "code",
   "execution_count": 1,
   "metadata": {},
   "outputs": [],
   "source": [
    "import numpy as np\n",
    "import matplotlib.pyplot as plt\n",
    "\n",
    "from sklearn.linear_model import LinearRegression"
   ]
  },
  {
   "cell_type": "markdown",
   "metadata": {},
   "source": [
    "\n",
    "## Exercice 4 : impact et detection d'outliers\n",
    "\n"
   ]
  },
  {
   "cell_type": "code",
   "execution_count": 2,
   "metadata": {},
   "outputs": [
    {
     "name": "stdout",
     "output_type": "stream",
     "text": [
      "b_0=6.192733040532804 et b_1=5.229487004160418\n"
     ]
    },
    {
     "data": {
      "image/png": "[encoded data removed]",
      "text/plain": [
       "<Figure size 640x480 with 1 Axes>"
      ]
     },
     "metadata": {},
     "output_type": "display_data"
    }
   ],
   "source": [
    "#generation de donnees test\n",
    "def generate_data(n_samples, outlier=False, b_1=4.):\n",
    "    x = np.arange(n_samples)\n",
    "    y = 10. + b_1*x + np.random.randn(n_samples)*3.\n",
    "    if outlier:\n",
    "        y[-1] += 20\n",
    "    return x, y\n",
    "\n",
    "def s2(y_true, y_pred):\n",
    "    n = len(y_true)\n",
    "    SSE = np.sum((y_true - y_pred)**2)\n",
    "    return SSE / (n-1)\n",
    "\n",
    "\n",
    "x, y = generate_data(n_samples=10, outlier=True)\n",
    "# instanciation de sklearn.linear_model.LinearRegression\n",
    "lr = LinearRegression()\n",
    "lr.fit(x[:, np.newaxis], y)  # np.newaxis est utilise car x doit etre une matrice 2d avec 'LinearRegression'\n",
    "\n",
    "# representation du resultat\n",
    "\n",
    "print('b_0='+str(lr.intercept_)+' et b_1='+str(lr.coef_[0]))\n",
    "\n",
    "fig = plt.figure()\n",
    "plt.plot(x, y, 'r.')\n",
    "plt.plot(x, lr.predict(x[:, np.newaxis]), 'b-')\n",
    "plt.legend(('Data', 'Linear Fit'), loc='lower right')\n",
    "plt.title('Linear regression')\n",
    "plt.show()"
   ]
  },
  {
   "cell_type": "markdown",
   "metadata": {},
   "source": [
    "\n",
    "### <span style=\"color:blue\">QUESTION 4.1 :</span> \n",
    "\n",
    "\n",
    "Remarquons que la ligne 'y[9]=y[9]+20' génere artificiellement une donnée aberrante.\n",
    "\n",
    "Tester l'impact de la donnée aberrante en estimant b_0, b_1 et s^2 sur \n",
    "- 5 jeux de données générés comme dans la cellule précédente et\n",
    "- 5 autres jeux aussi générés suivant cette méthode, mais sans la données aberrant (simplement ne pas executer la ligne y[9]=y[9]+20).\n",
    "\n",
    "On remarque que $\\beta_0 = 10$, $\\beta_1 = 4$ et $\\sigma=3$ dans les données simulees.\n"
   ]
  },
  {
   "cell_type": "markdown",
   "metadata": {},
   "source": [
    "### <span style=\"color:blue\">REPONSE 4.1 :</span> \n",
    "\n"
   ]
  },
  {
   "cell_type": "code",
   "execution_count": 11,
   "metadata": {},
   "outputs": [
    {
     "name": "stdout",
     "output_type": "stream",
     "text": [
      "pour i =  0 , b0 =  5.39786203732425 , b1 =  5.005277372423389 , s2 =  34.09099909353992\n",
      "pour i =  1 , b0 =  5.319513165401818 , b1 =  5.533192599497621 , s2 =  33.78070922999757\n",
      "pour i =  2 , b0 =  5.671553114258524 , b1 =  4.731476151661397 , s2 =  28.58456647472698\n",
      "pour i =  3 , b0 =  4.729864411698344 , b1 =  9.69419120936356 , s2 =  45.42600957424342\n",
      "pour i =  4 , b0 =  4.9051139797899 , b1 =  7.224402955569985 , s2 =  36.569606765047666\n"
     ]
    }
   ],
   "source": [
    "n_samples = 10\n",
    "(x1, y1) = generate_data(n_samples, outlier = True)\n",
    "(x2, y2) = generate_data(n_samples, outlier = True)\n",
    "(x3, y3) = generate_data(n_samples, outlier = True)\n",
    "(x4, y4) = generate_data(n_samples, outlier = True)\n",
    "(x5, y5) = generate_data(n_samples, outlier = True)\n",
    "\n",
    "jdd = [[x1,y1], [x2,y2], [x3,y3], [x4,y4], [x5,y5]]\n",
    "\n",
    "for i in range(len(jdd)):\n",
    "    x = jdd[i][0] \n",
    "    y = jdd[i][1] \n",
    "\n",
    "    lr = LinearRegression()\n",
    "    lr.fit(x[:, np.newaxis], y)  # np.newaxis est utilise car x doit etre une matrice 2d avec 'LinearRegression'\n",
    "\n",
    "    b1 = lr.intercept_\n",
    "    b0 = lr.coef_[0]\n",
    "    s_2 = s2(y, lr.predict(x[:, np.newaxis]))\n",
    "\n",
    "    print(\"pour i = \", i , \", b0 = \", b0, \", b1 = \", b1, \", s2 = \", s_2)\n",
    "\n",
    "\n"
   ]
  },
  {
   "cell_type": "code",
   "execution_count": 12,
   "metadata": {},
   "outputs": [
    {
     "name": "stdout",
     "output_type": "stream",
     "text": [
      "Outlier = False\n",
      "pour i =  0 , b0 =  3.725939368615394 , b1 =  11.381303196960872\n",
      "pour i =  1 , b0 =  3.422120396378038 , b1 =  13.088447754287586\n",
      "pour i =  2 , b0 =  4.128876302729106 , b1 =  10.478134667897287\n",
      "pour i =  3 , b0 =  4.251060676101391 , b1 =  8.537124575347697\n",
      "pour i =  4 , b0 =  4.697291037845604 , b1 =  7.046529603453376\n"
     ]
    }
   ],
   "source": [
    "print(\"Outlier = False\")\n",
    "\n",
    "n_samples = 10\n",
    "(x1, y1) = generate_data(n_samples, outlier = False)\n",
    "(x2, y2) = generate_data(n_samples, outlier = False)\n",
    "(x3, y3) = generate_data(n_samples, outlier = False)\n",
    "(x4, y4) = generate_data(n_samples, outlier = False)\n",
    "(x5, y5) = generate_data(n_samples, outlier = False)\n",
    "\n",
    "jdd = [[x1,y1], [x2,y2], [x3,y3], [x4,y4], [x5,y5]]\n",
    "\n",
    "for i in range(len(jdd)):\n",
    "    x = jdd[i][0] \n",
    "    y = jdd[i][1] \n",
    "\n",
    "    lr = LinearRegression()\n",
    "    lr.fit(x[:, np.newaxis], y)  # np.newaxis est utilise car x doit etre une matrice 2d avec 'LinearRegression'\n",
    "\n",
    "    b1 = lr.intercept_\n",
    "    b0 = lr.coef_[0]\n",
    "    s_2 = s2(y, lr.predict(x[:, np.newaxis]))\n",
    "\n",
    "    print(\"pour i = \", i , \", b0 = \", b0, \", b1 = \", b1)\n",
    "\n"
   ]
  },
  {
   "cell_type": "markdown",
   "metadata": {},
   "source": [
    "La variance estimée du bruit est beaucoup plus grande avec une donnée aberrante.\n",
    "La donnée aberrante introiduit un biais dans l'estimation des statistiques b_0 et b_1."
   ]
  },
  {
   "cell_type": "markdown",
   "metadata": {},
   "source": [
    "\n",
    "### <span style=\"color:blue\">QUESTIONS 4.2 :</span> \n",
    "\n",
    "#### <span style=\"color:blue\">QUESTION 4.2.a :</span> \n",
    "Pour chaque variable i, calculez les profils des résidus $e_{(i)j}=y_j - \\hat{y_{(i)j}}$ pour tous les j, où  \\hat{y_{(i)j}} est l'estimation de y_j à partir d'un modele  linéaire appris sans l'observation i.\n",
    "#### <span style=\"color:blue\">QUESTION 4.2.b :</span> \n",
    "En quoi le profil des e_{(i)j} est différent pour i=9 que pour les autres i\n",
    "#### <span style=\"color:blue\">QUESTION 4.2.c :</span> \n",
    "Etendre ces calculs pour définir la distance de Cook de chaque variable i\n",
    "\n",
    "AIDE : pour enlever un élement 'i' de 'x' ou 'y', utiliser x_del_i=np.delete(x,i) et y_del_i=np.delete(y,i) \n"
   ]
  },
  {
   "cell_type": "code",
   "execution_count": 13,
   "metadata": {},
   "outputs": [],
   "source": [
    "x, y = generate_data(n_samples=10, outlier=True)"
   ]
  },
  {
   "cell_type": "markdown",
   "metadata": {},
   "source": [
    "#### <span style=\"color:blue\">REPONSE 4.2.a :</span> \n"
   ]
  },
  {
   "cell_type": "code",
   "execution_count": null,
   "metadata": {},
   "outputs": [],
   "source": [
    "def profil_residuel(x, y, i):\n",
    "    \n",
    "    x_del_i = np.delete(x,i)\n",
    "    y_del_i = np.delete(y,i)\n",
    "\n",
    "    lr = LinearRegression()\n",
    "    lr.fit(x_del_i[:, np.newaxis], y_del_i)  # np.newaxis est utilise car x doit etre une matrice 2d avec 'LinearRegression'\n",
    "    y_pred_del_i = lr.predict(x[:, np.newaxis])\n",
    "\n",
    "    e_i = y - y_pred_del_i\n",
    "    \n",
    "    return e_i"
   ]
  },
  {
   "cell_type": "markdown",
   "metadata": {},
   "source": [
    "#### <span style=\"color:blue\">REPONSE 4.2.b :</span> \n",
    "\n",
    "Le profil résiduel de la donnée aberrante est toujours plus grand que les autres, en particulier lorsqu'on ôte la donnée de la base d'apprentissage."
   ]
  },
  {
   "cell_type": "code",
   "execution_count": 24,
   "metadata": {},
   "outputs": [
    {
     "name": "stdout",
     "output_type": "stream",
     "text": [
      "pour i =  0 et k =  9 , e_k =  [ 2.06211117 -4.4829274  -0.31915274  1.71360638  3.0553314   0.1019779\n",
      " -2.23697937  0.17718636 -0.07115371 15.40578948]\n",
      "pour i =  1 et k =  9 , e_k =  [ 0.55694346 -2.3204438   3.36438074 -0.431503    2.04640512 -2.53793762\n",
      " -1.43565604 -3.9417061   4.69951723 19.84910211]\n",
      "pour i =  2 et k =  9 , e_k =  [-3.42146374 -1.01649775  6.77488529 -0.03756468 -0.30209415  1.29247866\n",
      " -5.57569564  2.50803769 -0.22208568 20.08430982]\n",
      "pour i =  3 et k =  9 , e_k =  [-0.25751771  3.35696294  1.29157608 -4.25770946 -6.08964266  2.55920842\n",
      "  2.3693385   4.04276027 -3.01497639 19.0966445 ]\n",
      "pour i =  4 et k =  9 , e_k =  [ 1.85662051  4.48737308 -4.29558094 -4.66484979 -1.1652655   2.01416875\n",
      " -0.68794807  2.82761086 -0.3721289  18.40275797]\n"
     ]
    }
   ],
   "source": [
    "k = 9\n",
    "\n",
    "n_samples = 10\n",
    "(x1, y1) = generate_data(n_samples, outlier = True)\n",
    "(x2, y2) = generate_data(n_samples, outlier = True)\n",
    "(x3, y3) = generate_data(n_samples, outlier = True)\n",
    "(x4, y4) = generate_data(n_samples, outlier = True)\n",
    "(x5, y5) = generate_data(n_samples, outlier = True)\n",
    "\n",
    "jdd = [[x1,y1], [x2,y2], [x3,y3], [x4,y4], [x5,y5]]\n",
    "\n",
    "\n",
    "for i in range(len(jdd)):\n",
    "    x = jdd[i][0] \n",
    "    y = jdd[i][1] \n",
    "\n",
    "    lr = LinearRegression()\n",
    "    lr.fit(x[:, np.newaxis], y)  # np.newaxis est utilise car x doit etre une matrice 2d avec 'LinearRegression'\n",
    "\n",
    "    e_k = profil_residuel(x,y,k)\n",
    "\n",
    "    print(\"pour i = \", i ,\"et k = \", k , \", e_k = \", e_k)"
   ]
  },
  {
   "cell_type": "markdown",
   "metadata": {},
   "source": [
    "#### <span style=\"color:blue\">REPONSE 4.2.c :</span> \n"
   ]
  },
  {
   "cell_type": "code",
   "execution_count": 31,
   "metadata": {},
   "outputs": [],
   "source": [
    "def H(x):\n",
    "\n",
    "    n = len(x)\n",
    "    x_mean = [np.men(x) for i in range(n)]\n",
    "\n",
    "    H = np.zeros((n,n))\n",
    "\n",
    "    for i in range(n):\n",
    "        for j in range(n):\n",
    "            H[i][j] = 1/n + (x[i] - np.mean(x))*(x[j] - np.mean(x))/np.sum((x-x_mean)**2)\n",
    "\n",
    "\n",
    "    return H\n",
    "\n",
    "\n",
    "def cook(x, y, i):\n",
    "\n",
    "\n",
    "    x_del_i = np.delete(x,i)\n",
    "    y_del_i = np.delete(y,i)\n",
    "\n",
    "    lr_del_i = LinearRegression()\n",
    "    lr_del_i.fit(x_del_i[:, np.newaxis], y_del_i)  # np.newaxis est utilise car x doit etre une matrice 2d avec 'LinearRegression'\n",
    "    y_pred_del_i = lr_del_i.predict(x[:, np.newaxis])\n",
    "\n",
    "    lr = LinearRegression()\n",
    "    lr.fit(x[:,np.newaxis], y)\n",
    "    y_pred = lr.predict(x[:,np.newaxis])\n",
    "\n",
    "\n",
    "    return np.sum((y_pred_del_i - y_pred)**2) / (2*s2(y, y_pred))\n",
    "\n",
    "\n"
   ]
  },
  {
   "cell_type": "code",
   "execution_count": 53,
   "metadata": {},
   "outputs": [
    {
     "data": {
      "image/png": "[encoded data removed]",
      "text/plain": [
       "<Figure size 640x480 with 1 Axes>"
      ]
     },
     "metadata": {},
     "output_type": "display_data"
    }
   ],
   "source": [
    "n_samples = 10\n",
    "(x1, y1) = generate_data(n_samples, outlier = True)\n",
    "(x2, y2) = generate_data(n_samples, outlier = True)\n",
    "(x3, y3) = generate_data(n_samples, outlier = True)\n",
    "(x4, y4) = generate_data(n_samples, outlier = True)\n",
    "(x5, y5) = generate_data(n_samples, outlier = True)\n",
    "\n",
    "jdd = [[x1,y1], [x2,y2], [x3,y3], [x4,y4], [x5,y5]]\n",
    "\n",
    "for x in jdd:\n",
    "    y_cook = [cook(x[0],x[1],i) for i in range(10)]\n",
    "\n",
    "\n",
    "    abs = np.arange(10)\n",
    "    plt.plot(abs, y_cook)\n",
    "\n",
    "plt.show()"
   ]
  },
  {
   "cell_type": "markdown",
   "metadata": {},
   "source": [
    "## Question Bonus"
   ]
  },
  {
   "cell_type": "markdown",
   "metadata": {},
   "source": [
    "Pour un jeu de données de 20 observations obtenues avec un coefficient directeur $\\beta_1$ de $0.2$, faire un test d'hypothèse pour vérifier que les données sont corrélées avec une confiance de 95%. "
   ]
  },
  {
   "cell_type": "markdown",
   "metadata": {},
   "source": [
    "On rappelle que sous les hypothèses suivantes : \n",
    " * $\\mathbb{E}[\\epsilon_i] = 0$,\n",
    " * $\\mathbb{V}[\\epsilon_i] = \\sigma^2$,\n",
    " * $\\forall i \\neq j, \\: Cov(\\epsilon_i, \\epsilon_j) = 0$,\n",
    " \n",
    "on a : \n",
    "\n",
    "* $\\mathbb{E}[\\hat{\\beta_0}] = \\beta_0$,\n",
    "* $\\mathbb{E}[\\hat{\\beta_1}] = \\beta_1$,\n",
    "* $\\mathbb{V}[\\hat{\\beta_0}] = \\sigma^2(\\frac{1}{n} + \\frac{\\bar{x_n}^2}{\\sum_{i=1}^n (x_i - \\bar{x_n})^2})$,\n",
    "* $\\mathbb{V}[\\hat{\\beta_1}] = \\frac{\\sigma^2}{\\sum_{i=1}^n (x_i - \\bar{x_n})^2}$\n",
    "\n",
    "En faisant l'hypothèse supplémentaire que les erreurs suivent une loi normale, $\\epsilon_i \\sim \\mathcal{N}(0, \\sigma^2)$, on a :\n",
    "\n",
    "* $\\hat{\\beta_1} \\sim \\mathcal{N}(\\beta_1, \\frac{\\sigma^2}{\\sum_{i=1}^n (x_i - \\bar{x_n})^2})$,\n",
    "* $\\frac{(n-2) \\cdot s^2}{\\sigma^2} \\sim \\mathcal{X}^2(n-2)$,\n",
    "* $\\hat{\\beta_1}$ et $s^2$ indépendants,\n",
    "\n",
    "où $s^2 = \\frac{\\sum_{i=1}^n \\hat{\\epsilon_i}^2}{n-2}$ est un estimateur non biaisé de $\\sigma^2$.\n",
    "\n",
    "On peut en déduire que:\n",
    "\n",
    "$$ \\frac{ \\frac{ \\hat{\\beta_1}-\\beta_1}{\\sqrt{\\frac{\\sigma^2}{\\sum_{i=1}^n (x_i - \\bar{x_n})^2}}}}{\\sqrt{\\frac{\\frac{(n-2)s^2}{\\sigma^2}}{n-2}}} = \\frac{\\hat{\\beta_1}-\\beta_1}{\\frac{s}{\\sqrt{\\sum_{i=1}^n (x_i - \\bar{x_n})^2}}} = T_n \\sim T(n-2)$$ \n",
    "\n",
    "où $T(n-2)$ désigne la loi de Student à $n-2$ degrés de liberté, d'espérance nulle si $n-2 > 1$.\n",
    "\n",
    "Tester l'hypothèse H_0 : $\\beta_1 = 0$ en prenant un risque de 5%. "
   ]
  },
  {
   "cell_type": "code",
   "execution_count": null,
   "metadata": {},
   "outputs": [],
   "source": [
    "from scipy.stats import t\n",
    "\n",
    "\n",
    "..."
   ]
  },
  {
   "cell_type": "code",
   "execution_count": null,
   "metadata": {},
   "outputs": [],
   "source": []
  },
  {
   "cell_type": "code",
   "execution_count": null,
   "metadata": {},
   "outputs": [],
   "source": []
  },
  {
   "cell_type": "code",
   "execution_count": null,
   "metadata": {},
   "outputs": [],
   "source": []
  }
 ],
 "metadata": {
  "anaconda-cloud": {},
  "kernelspec": {
   "display_name": "myenv",
   "language": "python",
   "name": "python3"
  },
  "language_info": {
   "codemirror_mode": {
    "name": "ipython",
    "version": 3
   },
   "file_extension": ".py",
   "mimetype": "text/x-python",
   "name": "python",
   "nbconvert_exporter": "python",
   "pygments_lexer": "ipython3",
   "version": "3.12.11"
  }
 },
 "nbformat": 4,
 "nbformat_minor": 4
}
